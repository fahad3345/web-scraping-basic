{
 "cells": [
  {
   "cell_type": "code",
   "execution_count": 1,
   "metadata": {},
   "outputs": [],
   "source": [
    "#It's a basic web scraping program for beginners"
   ]
  },
  {
   "cell_type": "code",
   "execution_count": 35,
   "metadata": {},
   "outputs": [
    {
     "name": "stderr",
     "output_type": "stream",
     "text": [
      "C:\\Users\\ASUS\\anaconda3\\lib\\site-packages\\pandas\\core\\computation\\expressions.py:20: UserWarning: Pandas requires version '2.7.3' or newer of 'numexpr' (version '2.7.1' currently installed).\n",
      "  from pandas.core.computation.check import NUMEXPR_INSTALLED\n"
     ]
    }
   ],
   "source": [
    "import requests\n",
    "from bs4 import BeautifulSoup  #it's web scraping tool\n",
    "import pandas as pd"
   ]
  },
  {
   "cell_type": "code",
   "execution_count": 46,
   "metadata": {},
   "outputs": [],
   "source": [
    "books=[]\n",
    "for i in range(1,51):   \n",
    "    url=f'http://books.toscrape.com/catalogue/page-{i}.html'\n",
    "    response=requests.get(url)\n",
    "    response=response.content    #this is showing all the content in that web page , not only html code\n",
    "    soup=BeautifulSoup(response,'html.parser')    #this showing all the content which is in html\n",
    "    ol=soup.find('ol')\n",
    "    articles=ol.find_all('article',class_='product_pod')\n",
    "\n",
    "    for article in articles:\n",
    "        image=article.find('img')\n",
    "        title=image.attrs['alt']\n",
    "        star=article.find('p')\n",
    "        star=star['class'][1]\n",
    "        price=article.find('p',class_='price_color').text\n",
    "        price=float(price[1:])\n",
    "        books.append([title,price,star])\n",
    "    df=pd.DataFrame(books,columns=['Title','Price','Rating'])\n",
    "df.to_csv('Book.csv')"
   ]
  },
  {
   "cell_type": "code",
   "execution_count": 51,
   "metadata": {},
   "outputs": [
    {
     "data": {
      "text/plain": [
       "(1000, 4)"
      ]
     },
     "execution_count": 51,
     "metadata": {},
     "output_type": "execute_result"
    }
   ],
   "source": [
    "a=pd.read_csv('Book.csv')\n",
    "a.shape"
   ]
  },
  {
   "cell_type": "code",
   "execution_count": null,
   "metadata": {},
   "outputs": [],
   "source": []
  }
 ],
 "metadata": {
  "kernelspec": {
   "display_name": "Python 3",
   "language": "python",
   "name": "python3"
  },
  "language_info": {
   "codemirror_mode": {
    "name": "ipython",
    "version": 3
   },
   "file_extension": ".py",
   "mimetype": "text/x-python",
   "name": "python",
   "nbconvert_exporter": "python",
   "pygments_lexer": "ipython3",
   "version": "3.8.5"
  }
 },
 "nbformat": 4,
 "nbformat_minor": 4
}
